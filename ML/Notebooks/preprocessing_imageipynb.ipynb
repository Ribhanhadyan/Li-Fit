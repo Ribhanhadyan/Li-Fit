{
 "cells": [
  {
   "cell_type": "code",
   "execution_count": 1,
   "metadata": {},
   "outputs": [],
   "source": [
    "import shutil\n",
    "import os\n",
    "\n",
    "source_folder = \"E:/download/crop_part1/crop_part1/\"\n",
    "destination_folder = \"../Data/genderbackup2/\"\n",
    "\n",
    "# Get the list of all files in the source folder\n",
    "files = os.listdir(source_folder)\n",
    "\n",
    "# Loop through each file\n",
    "for file in files:\n",
    "    # Get the file extension and the file name without extension\n",
    "    extension = os.path.splitext(file)[1]\n",
    "    name = os.path.splitext(file)[0]\n",
    "\n",
    "    # Split the file name by the separator '_'\n",
    "    parts = name.split('_')\n",
    "\n",
    "    # Get the gender from the second part of the name\n",
    "    gender = parts[1]\n",
    "\n",
    "    # Create the destination folder based on gender if it doesn't exist\n",
    "    destination_path = destination_folder + gender + \"\\\\\"\n",
    "    if not os.path.exists(destination_path):\n",
    "        os.makedirs(destination_path)\n",
    "\n",
    "    # Copy the file to the destination folder\n",
    "    shutil.copy(source_folder + file, destination_path + file)"
   ]
  },
  {
   "cell_type": "code",
   "execution_count": null,
   "metadata": {},
   "outputs": [],
   "source": []
  }
 ],
 "metadata": {
  "kernelspec": {
   "display_name": "Python 3",
   "language": "python",
   "name": "python3"
  },
  "language_info": {
   "codemirror_mode": {
    "name": "ipython",
    "version": 3
   },
   "file_extension": ".py",
   "mimetype": "text/x-python",
   "name": "python",
   "nbconvert_exporter": "python",
   "pygments_lexer": "ipython3",
   "version": "3.10.11"
  },
  "orig_nbformat": 4
 },
 "nbformat": 4,
 "nbformat_minor": 2
}
