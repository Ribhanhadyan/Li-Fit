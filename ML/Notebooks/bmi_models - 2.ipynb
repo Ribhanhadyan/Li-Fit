{
 "cells": [
  {
   "cell_type": "code",
   "execution_count": 1,
   "metadata": {},
   "outputs": [],
   "source": [
    "import numpy as np\n",
    "import os\n",
    "import PIL\n",
    "import tensorflow as tf"
   ]
  },
  {
   "cell_type": "code",
   "execution_count": 2,
   "metadata": {},
   "outputs": [
    {
     "name": "stdout",
     "output_type": "stream",
     "text": [
      "Found 891 images belonging to 3 classes.\n",
      "Found 221 images belonging to 3 classes.\n"
     ]
    }
   ],
   "source": [
    "import tensorflow as tf\n",
    "from tensorflow.keras.preprocessing.image import ImageDataGenerator\n",
    "import os\n",
    "\n",
    "# Main directory that includes training and validation directories\n",
    "#main_dir = '../Data/Obesebackup/'\n",
    "#training_path = os.path.join (main_dir,'train')\n",
    "#validation_path = os.path.join (main_dir,'val')\n",
    "#test_path = os.path.join (main_dir,'test')\n",
    "\n",
    "PATH = os.path.join('../Data/Obese/')\n",
    "\n",
    "CHANNEL = 3 # Keep it 3 for colored images, make it 1 for grayscale\n",
    "batch_size = 8 # Change it depending on your dataset size\n",
    "# Image sizes depend on your preference and the model's requirements\n",
    "IMG_HEIGHT = 224\n",
    "IMG_WIDTH = 224\n",
    "\n",
    "training_batches = ImageDataGenerator (\n",
    "    rescale=1./255,\n",
    "    rotation_range=20,  # Rotasi gambar dalam rentang 20 derajat\n",
    "    width_shift_range=0.1,  # Perpindahan horizontal gambar\n",
    "    height_shift_range=0.1,  # Perpindahan vertikal gambar\n",
    "    horizontal_flip=True,  # Flip horizontal gambar\n",
    "    fill_mode='nearest',  # Cara mengisi piksel kosong setelah augmentasi\n",
    "    validation_split = 0.2 \n",
    ").flow_from_directory (\n",
    "    PATH,\n",
    "    shuffle=True,\n",
    "    target_size= (IMG_HEIGHT, IMG_WIDTH),\n",
    "    batch_size=batch_size,\n",
    "    color_mode='rgb',\n",
    "    class_mode='categorical',\n",
    "    subset = 'training',\n",
    "    seed=123\n",
    ")\n",
    "\n",
    "val_test_batches = ImageDataGenerator (\n",
    "    rescale=1./255,\n",
    "    #rotation_range=20,  # Rotasi gambar dalam rentang 20 derajat\n",
    "    #width_shift_range=0.2,  # Perpindahan horizontal gambar\n",
    "    #height_shift_range=0.2,  # Perpindahan vertikal gambar\n",
    "    #horizontal_flip=True,  # Flip horizontal gambar\n",
    "    #fill_mode='nearest'  # Cara mengisi piksel kosong setelah augmentasi\n",
    "    validation_split = 0.2\n",
    ").flow_from_directory (\n",
    "    PATH,\n",
    "    shuffle=True,\n",
    "    target_size= (IMG_HEIGHT, IMG_WIDTH),\n",
    "    batch_size=batch_size,\n",
    "    color_mode='rgb',\n",
    "    class_mode='categorical',\n",
    "    subset = 'validation',\n",
    "    seed=123\n",
    ")"
   ]
  },
  {
   "cell_type": "code",
   "execution_count": 3,
   "metadata": {},
   "outputs": [
    {
     "data": {
      "text/plain": [
       "{'normal': 0, 'obese1': 1, 'underweight': 2}"
      ]
     },
     "execution_count": 3,
     "metadata": {},
     "output_type": "execute_result"
    }
   ],
   "source": [
    "training_batches.class_indices"
   ]
  },
  {
   "cell_type": "code",
   "execution_count": 22,
   "metadata": {},
   "outputs": [
    {
     "ename": "ValueError",
     "evalue": "Can't convert non-rectangular Python sequence to Tensor.",
     "output_type": "error",
     "traceback": [
      "\u001b[1;31m---------------------------------------------------------------------------\u001b[0m",
      "\u001b[1;31mValueError\u001b[0m                                Traceback (most recent call last)",
      "\u001b[1;32me:\\ribhan\\UNPAD\\ORGANISASI,KEPANITIAAN\\BANGKIT\\Capstone Project\\LiFi\\LiFi\\ML\\Notebooks\\bmi_models - 2.ipynb Cell 3\u001b[0m in \u001b[0;36m1\n\u001b[1;32m----> <a href='vscode-notebook-cell:/e%3A/ribhan/UNPAD/ORGANISASI%2CKEPANITIAAN/BANGKIT/Capstone%20Project/LiFi/LiFi/ML/Notebooks/bmi_models%20-%202.ipynb#X25sZmlsZQ%3D%3D?line=0'>1</a>\u001b[0m test_batches,val_batches \u001b[39m=\u001b[39m tf\u001b[39m.\u001b[39;49msplit(val_test_batches,[\u001b[39m100\u001b[39;49m,\u001b[39m121\u001b[39;49m])\n",
      "File \u001b[1;32mc:\\env\\.conda\\lib\\site-packages\\tensorflow\\python\\util\\traceback_utils.py:153\u001b[0m, in \u001b[0;36mfilter_traceback.<locals>.error_handler\u001b[1;34m(*args, **kwargs)\u001b[0m\n\u001b[0;32m    151\u001b[0m \u001b[39mexcept\u001b[39;00m \u001b[39mException\u001b[39;00m \u001b[39mas\u001b[39;00m e:\n\u001b[0;32m    152\u001b[0m   filtered_tb \u001b[39m=\u001b[39m _process_traceback_frames(e\u001b[39m.\u001b[39m__traceback__)\n\u001b[1;32m--> 153\u001b[0m   \u001b[39mraise\u001b[39;00m e\u001b[39m.\u001b[39mwith_traceback(filtered_tb) \u001b[39mfrom\u001b[39;00m \u001b[39mNone\u001b[39m\n\u001b[0;32m    154\u001b[0m \u001b[39mfinally\u001b[39;00m:\n\u001b[0;32m    155\u001b[0m   \u001b[39mdel\u001b[39;00m filtered_tb\n",
      "File \u001b[1;32mc:\\env\\.conda\\lib\\site-packages\\tensorflow\\python\\framework\\constant_op.py:103\u001b[0m, in \u001b[0;36mconvert_to_eager_tensor\u001b[1;34m(value, ctx, dtype)\u001b[0m\n\u001b[0;32m    101\u001b[0m     dtype \u001b[39m=\u001b[39m dtypes\u001b[39m.\u001b[39mas_dtype(dtype)\u001b[39m.\u001b[39mas_datatype_enum\n\u001b[0;32m    102\u001b[0m ctx\u001b[39m.\u001b[39mensure_initialized()\n\u001b[1;32m--> 103\u001b[0m \u001b[39mreturn\u001b[39;00m ops\u001b[39m.\u001b[39;49mEagerTensor(value, ctx\u001b[39m.\u001b[39;49mdevice_name, dtype)\n",
      "\u001b[1;31mValueError\u001b[0m: Can't convert non-rectangular Python sequence to Tensor."
     ]
    }
   ],
   "source": [
    "test_batches,val_batches = tf.split(val_test_batches,[100,121])"
   ]
  },
  {
   "cell_type": "code",
   "execution_count": 178,
   "metadata": {},
   "outputs": [
    {
     "name": "stdout",
     "output_type": "stream",
     "text": [
      "Found 221 images belonging to 3 classes.\n"
     ]
    }
   ],
   "source": [
    "test_batches = ImageDataGenerator (\n",
    "    rescale=1./255,\n",
    "    #rotation_range=20,  # Rotasi gambar dalam rentang 20 derajat\n",
    "    #width_shift_range=0.2,  # Perpindahan horizontal gambar\n",
    "    #height_shift_range=0.2,  # Perpindahan vertikal gambar\n",
    "    #horizontal_flip=True,  # Flip horizontal gambar\n",
    "    #fill_mode='nearest',  # Cara mengisi piksel kosong setelah augmentasi\n",
    "    validation_split = 0.2\n",
    ").flow_from_directory (\n",
    "    PATH,\n",
    "    shuffle=True,\n",
    "    target_size= (IMG_HEIGHT, IMG_WIDTH),\n",
    "    batch_size=batch_size,\n",
    "    color_mode='rgb',\n",
    "    class_mode='categorical',\n",
    "    subset = 'validation',\n",
    "    seed = 321\n",
    ")"
   ]
  },
  {
   "cell_type": "code",
   "execution_count": 234,
   "metadata": {},
   "outputs": [],
   "source": [
    "from tensorflow.keras.optimizers import Adam,RMSprop,Adagrad\n",
    "from tensorflow.keras.applications.resnet50 import ResNet50\n",
    "from tensorflow.keras.models import Model\n",
    "from tensorflow.keras.callbacks import EarlyStopping\n",
    "from tensorflow.keras.applications.mobilenet import MobileNet\n",
    "# grader-required-cell\n",
    "\n",
    "# GRADED FUNCTION: create_model\n",
    "def create_model():\n",
    "  # DEFINE A KERAS MODEL TO CLASSIFY CATS V DOGS\n",
    "  # USE AT LEAST 3 CONVOLUTION LAYERS\n",
    "\n",
    "  base_model = MobileNet(weights='imagenet', include_top=False)\n",
    "  base_model.trainable = True\n",
    "  for layer in base_model.layers[:150]:\n",
    "    layer.trainable = False\n",
    "# ``\n",
    "  x = base_model.output\n",
    "  x = tf.keras.layers.GlobalAveragePooling2D()(x)\n",
    "  x = tf.keras.layers.Dense(64, activation='relu')(x)\n",
    "  x = tf.keras.layers.Dropout(0.5)(x)\n",
    "  predictions = tf.keras.layers.Dense(3, activation='softmax')(x)\n",
    "  model = Model(inputs=base_model.input, outputs=predictions)\n",
    "\n",
    "  #model = tf.keras.models.Sequential([ \n",
    "  #  tf.keras.layers.Rescaling(1./255),\n",
    "  #    tf.keras.layers.Conv2D(32,(3,3),activation='relu',input_shape=(150,150,3)),\n",
    "  #    tf.keras.layers.MaxPooling2D(2,2),\n",
    "  #    tf.keras.layers.Conv2D(64,(3,3),activation='relu'),\n",
    "  #    tf.keras.layers.MaxPooling2D(2,2),\n",
    "  #    tf.keras.layers.MaxPooling2D(2,2),\n",
    "  #    tf.keras.layers.Flatten(),\n",
    "  #    tf.keras.layers.Dense(512,activation='relu'),\n",
    "  #    tf.keras.layers.Dropout(0.5),\n",
    "  #    tf.keras.layers.Dense(5,activation='softmax')\n",
    "  #])\n",
    "\n",
    "  \n",
    "  model.compile(optimizer=Adam(learning_rate=1e-3),\n",
    "                loss='categorical_crossentropy',\n",
    "                metrics=['accuracy']) \n",
    "    \n",
    "  ### END CODE HERE\n",
    "\n",
    "  return model"
   ]
  },
  {
   "cell_type": "code",
   "execution_count": 263,
   "metadata": {},
   "outputs": [
    {
     "name": "stdout",
     "output_type": "stream",
     "text": [
      "WARNING:tensorflow:`input_shape` is undefined or non-square, or `rows` is not in [128, 160, 192, 224]. Weights for input shape (224, 224) will be loaded as the default.\n"
     ]
    },
    {
     "name": "stderr",
     "output_type": "stream",
     "text": [
      "WARNING:tensorflow:`input_shape` is undefined or non-square, or `rows` is not in [128, 160, 192, 224]. Weights for input shape (224, 224) will be loaded as the default.\n"
     ]
    },
    {
     "name": "stdout",
     "output_type": "stream",
     "text": [
      "Epoch 1/4\n",
      "112/112 [==============================] - 31s 255ms/step - loss: 0.7873 - accuracy: 0.6779 - val_loss: 0.5491 - val_accuracy: 0.8235\n",
      "Epoch 2/4\n",
      "112/112 [==============================] - 15s 135ms/step - loss: 0.4921 - accuracy: 0.7868 - val_loss: 0.5442 - val_accuracy: 0.8235\n",
      "Epoch 3/4\n",
      "112/112 [==============================] - 17s 148ms/step - loss: 0.4432 - accuracy: 0.8204 - val_loss: 0.6602 - val_accuracy: 0.8235\n",
      "Epoch 4/4\n",
      "112/112 [==============================] - 17s 149ms/step - loss: 0.3942 - accuracy: 0.8204 - val_loss: 0.4729 - val_accuracy: 0.8688\n"
     ]
    }
   ],
   "source": [
    "model = create_model()\n",
    "\n",
    "early_stopping = EarlyStopping(patience=15, verbose=1)\n",
    "callbacks =[early_stopping]\n",
    "\n",
    "history = model.fit(training_batches,\n",
    "                    epochs=4,\n",
    "                    verbose=1,\n",
    "                    validation_data=validation_batches#,\n",
    "                    #validation_steps=validation_steps\n",
    "                    #callbacks=callbacks\n",
    "                    )"
   ]
  },
  {
   "cell_type": "code",
   "execution_count": 58,
   "metadata": {},
   "outputs": [
    {
     "ename": "TypeError",
     "evalue": "'History' object is not subscriptable",
     "output_type": "error",
     "traceback": [
      "\u001b[1;31m---------------------------------------------------------------------------\u001b[0m",
      "\u001b[1;31mTypeError\u001b[0m                                 Traceback (most recent call last)",
      "\u001b[1;32me:\\ribhan\\UNPAD\\ORGANISASI,KEPANITIAAN\\BANGKIT\\Capstone Project\\LiFi\\LiFi\\ML\\Notebooks\\bmi_models - 2.ipynb Cell 7\u001b[0m in \u001b[0;36m<cell line: 2>\u001b[1;34m()\u001b[0m\n\u001b[0;32m      <a href='vscode-notebook-cell:/e%3A/ribhan/UNPAD/ORGANISASI%2CKEPANITIAAN/BANGKIT/Capstone%20Project/LiFi/LiFi/ML/Notebooks/bmi_models%20-%202.ipynb#W6sZmlsZQ%3D%3D?line=0'>1</a>\u001b[0m \u001b[39mimport\u001b[39;00m \u001b[39mmatplotlib\u001b[39;00m\u001b[39m.\u001b[39;00m\u001b[39mpyplot\u001b[39;00m \u001b[39mas\u001b[39;00m \u001b[39mplt\u001b[39;00m\n\u001b[1;32m----> <a href='vscode-notebook-cell:/e%3A/ribhan/UNPAD/ORGANISASI%2CKEPANITIAAN/BANGKIT/Capstone%20Project/LiFi/LiFi/ML/Notebooks/bmi_models%20-%202.ipynb#W6sZmlsZQ%3D%3D?line=1'>2</a>\u001b[0m acc\u001b[39m=\u001b[39m model\u001b[39m.\u001b[39;49mhistory[\u001b[39m'\u001b[39;49m\u001b[39maccuracy\u001b[39;49m\u001b[39m'\u001b[39;49m]\n\u001b[0;32m      <a href='vscode-notebook-cell:/e%3A/ribhan/UNPAD/ORGANISASI%2CKEPANITIAAN/BANGKIT/Capstone%20Project/LiFi/LiFi/ML/Notebooks/bmi_models%20-%202.ipynb#W6sZmlsZQ%3D%3D?line=2'>3</a>\u001b[0m val_acc\u001b[39m=\u001b[39m model\u001b[39m.\u001b[39mhistory[\u001b[39m'\u001b[39m\u001b[39mval_accuracy\u001b[39m\u001b[39m'\u001b[39m]\n\u001b[0;32m      <a href='vscode-notebook-cell:/e%3A/ribhan/UNPAD/ORGANISASI%2CKEPANITIAAN/BANGKIT/Capstone%20Project/LiFi/LiFi/ML/Notebooks/bmi_models%20-%202.ipynb#W6sZmlsZQ%3D%3D?line=3'>4</a>\u001b[0m loss\u001b[39m=\u001b[39mmodel\u001b[39m.\u001b[39mhistory[\u001b[39m'\u001b[39m\u001b[39mloss\u001b[39m\u001b[39m'\u001b[39m]\n",
      "\u001b[1;31mTypeError\u001b[0m: 'History' object is not subscriptable"
     ]
    }
   ],
   "source": [
    "import matplotlib.pyplot as plt\n",
    "acc= history.history['accuracy']\n",
    "val_acc= history.history['val_accuracy']\n",
    "loss=history.history['loss']\n",
    "val_loss=history.history['val_loss']\n",
    "\n",
    "epochs=range(len(acc))\n",
    "\n",
    "plt.plot(epochs, acc, 'r', \"Training Accuracy\")\n",
    "plt.plot(epochs, val_acc, 'b', \"Validation Accuracy\")\n",
    "plt.title('Training and validation accuracy')\n",
    "plt.show()\n",
    "print(\"\")\n",
    "\n",
    "plt.plot(epochs, loss, 'r', \"Training loss\")\n",
    "plt.plot(epochs, val_loss, 'b', \"Validation loss\")\n",
    "plt.show()"
   ]
  },
  {
   "cell_type": "code",
   "execution_count": 265,
   "metadata": {},
   "outputs": [
    {
     "name": "stdout",
     "output_type": "stream",
     "text": [
      "28/28 [==============================] - 3s 88ms/step - loss: 0.4729 - accuracy: 0.8688\n"
     ]
    },
    {
     "data": {
      "text/plain": [
       "[0.47292232513427734, 0.8687782883644104]"
      ]
     },
     "execution_count": 265,
     "metadata": {},
     "output_type": "execute_result"
    }
   ],
   "source": [
    "model.evaluate(test_batches)A"
   ]
  },
  {
   "cell_type": "code",
   "execution_count": 227,
   "metadata": {},
   "outputs": [
    {
     "data": {
      "text/plain": [
       "{'normal': 0, 'obese1': 1, 'underweight': 2}"
      ]
     },
     "execution_count": 227,
     "metadata": {},
     "output_type": "execute_result"
    }
   ],
   "source": [
    "test_batches.class_indices"
   ]
  },
  {
   "cell_type": "code",
   "execution_count": 3,
   "metadata": {},
   "outputs": [],
   "source": [
    "model = tf.keras.models.load_model('../Models/obese_models/8/')"
   ]
  },
  {
   "cell_type": "code",
   "execution_count": 4,
   "metadata": {},
   "outputs": [],
   "source": [
    "class_name = ['normal','obese1','underweight']"
   ]
  },
  {
   "cell_type": "code",
   "execution_count": 2,
   "metadata": {},
   "outputs": [],
   "source": [
    "from retinaface import RetinaFace"
   ]
  },
  {
   "cell_type": "code",
   "execution_count": 24,
   "metadata": {},
   "outputs": [
    {
     "data": {
      "image/png": "[encoded data removed]",
      "text/plain": [
       "<Figure size 432x288 with 1 Axes>"
      ]
     },
     "metadata": {
      "needs_background": "light"
     },
     "output_type": "display_data"
    }
   ],
   "source": [
    "faces = RetinaFace.extract_faces('E:/download/3.jpg', align = True)\n",
    "for face in faces:\n",
    "  face = Image.fromarray(face)\n",
    "  width, height = face.size\n",
    "  # adjust the margin as you like\n",
    "  margin = 0.1\n",
    "  left = int(width * -margin)\n",
    "  top = int(height * -margin)\n",
    "  right = int(width * (1 + margin))\n",
    "  bottom = int(height * (1 + margin))\n",
    "  face = face.crop((left, top, right, bottom))\n",
    "  face = face.resize((150, 150), Image.ANTIALIAS)\n",
    "  plt.imshow(face)\n",
    "  plt.show()"
   ]
  },
  {
   "cell_type": "code",
   "execution_count": 56,
   "metadata": {},
   "outputs": [
    {
     "ename": "ValueError",
     "evalue": "('Input image file path (', 'E:/download/14.jpeg', ') does not exist.')",
     "output_type": "error",
     "traceback": [
      "\u001b[1;31m---------------------------------------------------------------------------\u001b[0m",
      "\u001b[1;31mValueError\u001b[0m                                Traceback (most recent call last)",
      "\u001b[1;32me:\\ribhan\\UNPAD\\ORGANISASI,KEPANITIAAN\\BANGKIT\\Capstone Project\\LiFi\\LiFi\\ML\\Notebooks\\bmi_models - 2.ipynb Cell 14\u001b[0m in \u001b[0;36m<cell line: 5>\u001b[1;34m()\u001b[0m\n\u001b[0;32m      <a href='vscode-notebook-cell:/e%3A/ribhan/UNPAD/ORGANISASI%2CKEPANITIAAN/BANGKIT/Capstone%20Project/LiFi/LiFi/ML/Notebooks/bmi_models%20-%202.ipynb#X31sZmlsZQ%3D%3D?line=1'>2</a>\u001b[0m \u001b[39mimport\u001b[39;00m \u001b[39mnumpy\u001b[39;00m \u001b[39mas\u001b[39;00m \u001b[39mnp\u001b[39;00m\n\u001b[0;32m      <a href='vscode-notebook-cell:/e%3A/ribhan/UNPAD/ORGANISASI%2CKEPANITIAAN/BANGKIT/Capstone%20Project/LiFi/LiFi/ML/Notebooks/bmi_models%20-%202.ipynb#X31sZmlsZQ%3D%3D?line=2'>3</a>\u001b[0m \u001b[39mfrom\u001b[39;00m \u001b[39mPIL\u001b[39;00m \u001b[39mimport\u001b[39;00m Image\n\u001b[1;32m----> <a href='vscode-notebook-cell:/e%3A/ribhan/UNPAD/ORGANISASI%2CKEPANITIAAN/BANGKIT/Capstone%20Project/LiFi/LiFi/ML/Notebooks/bmi_models%20-%202.ipynb#X31sZmlsZQ%3D%3D?line=4'>5</a>\u001b[0m img \u001b[39m=\u001b[39mRetinaFace\u001b[39m.\u001b[39;49mextract_faces(\u001b[39m'\u001b[39;49m\u001b[39mE:/download/14.jpeg\u001b[39;49m\u001b[39m'\u001b[39;49m,align\u001b[39m=\u001b[39;49m\u001b[39mFalse\u001b[39;49;00m)\n\u001b[0;32m      <a href='vscode-notebook-cell:/e%3A/ribhan/UNPAD/ORGANISASI%2CKEPANITIAAN/BANGKIT/Capstone%20Project/LiFi/LiFi/ML/Notebooks/bmi_models%20-%202.ipynb#X31sZmlsZQ%3D%3D?line=5'>6</a>\u001b[0m \u001b[39m#img2 = PIL.Image.open('E:/download/7.jpeg')\u001b[39;00m\n\u001b[0;32m      <a href='vscode-notebook-cell:/e%3A/ribhan/UNPAD/ORGANISASI%2CKEPANITIAAN/BANGKIT/Capstone%20Project/LiFi/LiFi/ML/Notebooks/bmi_models%20-%202.ipynb#X31sZmlsZQ%3D%3D?line=6'>7</a>\u001b[0m \u001b[39mfor\u001b[39;00m face \u001b[39min\u001b[39;00m img:\n",
      "File \u001b[1;32mc:\\Users\\ribhanhadyan\\anaconda3\\lib\\site-packages\\retinaface\\RetinaFace.py:190\u001b[0m, in \u001b[0;36mextract_faces\u001b[1;34m(img_path, threshold, model, align, allow_upscaling)\u001b[0m\n\u001b[0;32m    186\u001b[0m resp \u001b[39m=\u001b[39m []\n\u001b[0;32m    188\u001b[0m \u001b[39m#---------------------------\u001b[39;00m\n\u001b[1;32m--> 190\u001b[0m img \u001b[39m=\u001b[39m get_image(img_path)\n\u001b[0;32m    192\u001b[0m \u001b[39m#---------------------------\u001b[39;00m\n\u001b[0;32m    194\u001b[0m obj \u001b[39m=\u001b[39m detect_faces(img_path \u001b[39m=\u001b[39m img, threshold \u001b[39m=\u001b[39m threshold, model \u001b[39m=\u001b[39m model, allow_upscaling \u001b[39m=\u001b[39m allow_upscaling)\n",
      "File \u001b[1;32mc:\\Users\\ribhanhadyan\\anaconda3\\lib\\site-packages\\retinaface\\RetinaFace.py:43\u001b[0m, in \u001b[0;36mget_image\u001b[1;34m(img_path)\u001b[0m\n\u001b[0;32m     41\u001b[0m \u001b[39mif\u001b[39;00m \u001b[39mtype\u001b[39m(img_path) \u001b[39m==\u001b[39m \u001b[39mstr\u001b[39m:  \u001b[39m# Load from file path\u001b[39;00m\n\u001b[0;32m     42\u001b[0m     \u001b[39mif\u001b[39;00m \u001b[39mnot\u001b[39;00m os\u001b[39m.\u001b[39mpath\u001b[39m.\u001b[39misfile(img_path):\n\u001b[1;32m---> 43\u001b[0m         \u001b[39mraise\u001b[39;00m \u001b[39mValueError\u001b[39;00m(\u001b[39m\"\u001b[39m\u001b[39mInput image file path (\u001b[39m\u001b[39m\"\u001b[39m, img_path, \u001b[39m\"\u001b[39m\u001b[39m) does not exist.\u001b[39m\u001b[39m\"\u001b[39m)\n\u001b[0;32m     44\u001b[0m     img \u001b[39m=\u001b[39m cv2\u001b[39m.\u001b[39mimread(img_path)\n\u001b[0;32m     46\u001b[0m \u001b[39melif\u001b[39;00m \u001b[39misinstance\u001b[39m(img_path, np\u001b[39m.\u001b[39mndarray):  \u001b[39m# Use given NumPy array\u001b[39;00m\n",
      "\u001b[1;31mValueError\u001b[0m: ('Input image file path (', 'E:/download/14.jpeg', ') does not exist.')"
     ]
    }
   ],
   "source": [
    "import matplotlib.pyplot as plt\n",
    "import numpy as np\n",
    "from PIL import Image\n",
    "\n",
    "img =RetinaFace.extract_faces('E:/download/14.jpeg',align=False)\n",
    "#img2 = PIL.Image.open('E:/download/7.jpeg')\n",
    "for face in img:\n",
    "  face = Image.fromarray(face)\n",
    "  #width, height = face.size\n",
    "  ## adjust the margin as you like\n",
    "  #margin = 0.00\n",
    "  #left = int(width * -margin)\n",
    "  #top = int(height * -margin)\n",
    "  #right = int(width * (1 + margin))\n",
    "  #bottom = int(height * (1 + margin))\n",
    "#\n",
    "  #face = img2.crop((left, top, right, bottom))\n",
    "  face = face.resize((150, 150), Image.ANTIALIAS)\n",
    "\n",
    "image = np.array(face)/255.0\n",
    "image = image.reshape((1,150,150,3))\n",
    "predict = class_name[np.argmax(model.predict(image))]\n",
    "print(model.predict(image))\n",
    "print(class_name)\n",
    "print(f'status :{predict}')\n",
    "plt.imshow(face)"
   ]
  },
  {
   "cell_type": "code",
   "execution_count": 6,
   "metadata": {},
   "outputs": [
    {
     "ename": "ModuleNotFoundError",
     "evalue": "No module named 'dlib'",
     "output_type": "error",
     "traceback": [
      "\u001b[1;31m---------------------------------------------------------------------------\u001b[0m",
      "\u001b[1;31mModuleNotFoundError\u001b[0m                       Traceback (most recent call last)",
      "\u001b[1;32me:\\ribhan\\UNPAD\\ORGANISASI,KEPANITIAAN\\BANGKIT\\Capstone Project\\LiFi\\LiFi\\ML\\Notebooks\\bmi_models - 2.ipynb Cell 13\u001b[0m in \u001b[0;36m<cell line: 5>\u001b[1;34m()\u001b[0m\n\u001b[0;32m      <a href='vscode-notebook-cell:/e%3A/ribhan/UNPAD/ORGANISASI%2CKEPANITIAAN/BANGKIT/Capstone%20Project/LiFi/LiFi/ML/Notebooks/bmi_models%20-%202.ipynb#X14sZmlsZQ%3D%3D?line=2'>3</a>\u001b[0m \u001b[39mimport\u001b[39;00m \u001b[39mnumpy\u001b[39;00m \u001b[39mas\u001b[39;00m \u001b[39mnp\u001b[39;00m\n\u001b[0;32m      <a href='vscode-notebook-cell:/e%3A/ribhan/UNPAD/ORGANISASI%2CKEPANITIAAN/BANGKIT/Capstone%20Project/LiFi/LiFi/ML/Notebooks/bmi_models%20-%202.ipynb#X14sZmlsZQ%3D%3D?line=3'>4</a>\u001b[0m img \u001b[39m=\u001b[39m PIL\u001b[39m.\u001b[39mImage\u001b[39m.\u001b[39mopen(\u001b[39m'\u001b[39m\u001b[39mC:/Users/ribhanhadyan/Pictures/Camera Roll/WIN_20230604_20_04_37_Pro.jpg\u001b[39m\u001b[39m'\u001b[39m)\n\u001b[1;32m----> <a href='vscode-notebook-cell:/e%3A/ribhan/UNPAD/ORGANISASI%2CKEPANITIAAN/BANGKIT/Capstone%20Project/LiFi/LiFi/ML/Notebooks/bmi_models%20-%202.ipynb#X14sZmlsZQ%3D%3D?line=4'>5</a>\u001b[0m img \u001b[39m=\u001b[39m crop_image\u001b[39m.\u001b[39;49mcrop_image(img)\n\u001b[0;32m      <a href='vscode-notebook-cell:/e%3A/ribhan/UNPAD/ORGANISASI%2CKEPANITIAAN/BANGKIT/Capstone%20Project/LiFi/LiFi/ML/Notebooks/bmi_models%20-%202.ipynb#X14sZmlsZQ%3D%3D?line=5'>6</a>\u001b[0m img \u001b[39m=\u001b[39m img\u001b[39m.\u001b[39mresize((\u001b[39m150\u001b[39m,\u001b[39m150\u001b[39m))\n\u001b[0;32m      <a href='vscode-notebook-cell:/e%3A/ribhan/UNPAD/ORGANISASI%2CKEPANITIAAN/BANGKIT/Capstone%20Project/LiFi/LiFi/ML/Notebooks/bmi_models%20-%202.ipynb#X14sZmlsZQ%3D%3D?line=7'>8</a>\u001b[0m image \u001b[39m=\u001b[39m np\u001b[39m.\u001b[39marray(img)\u001b[39m/\u001b[39m\u001b[39m255.0\u001b[39m\n",
      "File \u001b[1;32me:\\ribhan\\UNPAD\\ORGANISASI,KEPANITIAAN\\BANGKIT\\Capstone Project\\LiFi\\LiFi\\ML\\Notebooks\\crop_image.py:3\u001b[0m, in \u001b[0;36mcrop_image\u001b[1;34m(image)\u001b[0m\n\u001b[0;32m      1\u001b[0m \u001b[39mdef\u001b[39;00m \u001b[39mcrop_image\u001b[39m(image):\n\u001b[0;32m      2\u001b[0m     \u001b[39m# Impor modul dlib dan cv2\u001b[39;00m\n\u001b[1;32m----> 3\u001b[0m     \u001b[39mimport\u001b[39;00m \u001b[39mdlib\u001b[39;00m\n\u001b[0;32m      4\u001b[0m     \u001b[39mimport\u001b[39;00m \u001b[39mcv2\u001b[39;00m\n\u001b[0;32m      6\u001b[0m     \u001b[39m# Muat gambar dan ubah ke grayscale\u001b[39;00m\n",
      "\u001b[1;31mModuleNotFoundError\u001b[0m: No module named 'dlib'"
     ]
    }
   ],
   "source": [
    "import matplotlib.pyplot as plt\n",
    "import PIL\n",
    "import numpy as np\n",
    "img = PIL.Image.open('C:/Users/ribhanhadyan/Pictures/Camera Roll/WIN_20230604_20_04_37_Pro.jpg')\n",
    "img = crop_image.crop_image(img)\n",
    "img = img.resize((150,150))\n",
    "\n",
    "image = np.array(img)/255.0\n",
    "image = image.reshape((1,150,150,3))\n",
    "predict = class_name[np.argmax(model.predict(image))]\n",
    "print(model.predict(image))\n",
    "print(class_name)\n",
    "print(f'status :{predict}')\n",
    "plt.imshow(img)"
   ]
  },
  {
   "cell_type": "code",
   "execution_count": 7,
   "metadata": {},
   "outputs": [
    {
     "name": "stdout",
     "output_type": "stream",
     "text": [
      "Collecting dlib\n",
      "  Using cached dlib-19.24.2.tar.gz (11.8 MB)\n",
      "  Installing build dependencies: started\n",
      "  Installing build dependencies: finished with status 'done'\n",
      "  Getting requirements to build wheel: started\n",
      "  Getting requirements to build wheel: finished with status 'done'\n",
      "  Preparing metadata (pyproject.toml): started\n",
      "  Preparing metadata (pyproject.toml): finished with status 'done'\n",
      "Building wheels for collected packages: dlib\n",
      "  Building wheel for dlib (pyproject.toml): started\n",
      "  Building wheel for dlib (pyproject.toml): finished with status 'error'\n",
      "Failed to build dlib\n"
     ]
    },
    {
     "name": "stderr",
     "output_type": "stream",
     "text": [
      "  error: subprocess-exited-with-error\n",
      "  \n",
      "  × Building wheel for dlib (pyproject.toml) did not run successfully.\n",
      "  │ exit code: 1\n",
      "  ╰─> [73 lines of output]\n",
      "      running bdist_wheel\n",
      "      running build\n",
      "      running build_ext\n",
      "      <string>:125: DeprecationWarning: distutils Version classes are deprecated. Use packaging.version instead.\n",
      "      Building extension for Python 3.8.16 (default, Mar  2 2023, 03:18:16) [MSC v.1916 64 bit (AMD64)]\n",
      "      Invoking CMake setup: 'cmake C:\\Users\\ribhanhadyan\\AppData\\Local\\Temp\\pip-install-f1a0kixw\\dlib_b1d0e9a19fde4d9b921e6befb888354f\\tools\\python -DCMAKE_LIBRARY_OUTPUT_DIRECTORY=C:\\Users\\ribhanhadyan\\AppData\\Local\\Temp\\pip-install-f1a0kixw\\dlib_b1d0e9a19fde4d9b921e6befb888354f\\build\\lib.win-amd64-cpython-38 -DPYTHON_EXECUTABLE=c:\\Users\\ribhanhadyan\\AppData\\Local\\Programs\\Python\\Python38\\.conda\\python.exe -DCMAKE_LIBRARY_OUTPUT_DIRECTORY_RELEASE=C:\\Users\\ribhanhadyan\\AppData\\Local\\Temp\\pip-install-f1a0kixw\\dlib_b1d0e9a19fde4d9b921e6befb888354f\\build\\lib.win-amd64-cpython-38 -A x64'\n",
      "      -- Building for: NMake Makefiles\n",
      "      CMake Error at CMakeLists.txt:5 (message):\n",
      "      \n",
      "      \n",
      "      \n",
      "        !!!!!!!!!!!!!!!!!!!!!!!!!!!!!!!!!!!!!!!!!!!!!!!!!!!!!!!!!!!!!!!!!!!!!!!!!!!!!!!\n",
      "      \n",
      "      \n",
      "        You must use Visual Studio to build a python extension on windows.  If you\n",
      "        are getting this error it means you have not installed Visual C++.  Note\n",
      "        that there are many flavors of Visual Studio, like Visual Studio for C#\n",
      "        development.  You need to install Visual Studio for C++.\n",
      "      \n",
      "      \n",
      "        !!!!!!!!!!!!!!!!!!!!!!!!!!!!!!!!!!!!!!!!!!!!!!!!!!!!!!!!!!!!!!!!!!!!!!!!!!!!!!!\n",
      "      \n",
      "      \n",
      "      \n",
      "      \n",
      "      -- Configuring incomplete, errors occurred!\n",
      "      Traceback (most recent call last):\n",
      "        File \"C:\\Users\\ribhanhadyan\\AppData\\Roaming\\Python\\Python38\\site-packages\\pip\\_vendor\\pyproject_hooks\\_in_process\\_in_process.py\", line 353, in <module>\n",
      "          main()\n",
      "        File \"C:\\Users\\ribhanhadyan\\AppData\\Roaming\\Python\\Python38\\site-packages\\pip\\_vendor\\pyproject_hooks\\_in_process\\_in_process.py\", line 335, in main\n",
      "          json_out['return_val'] = hook(**hook_input['kwargs'])\n",
      "        File \"C:\\Users\\ribhanhadyan\\AppData\\Roaming\\Python\\Python38\\site-packages\\pip\\_vendor\\pyproject_hooks\\_in_process\\_in_process.py\", line 251, in build_wheel\n",
      "          return _build_backend().build_wheel(wheel_directory, config_settings,\n",
      "        File \"C:\\Users\\ribhanhadyan\\AppData\\Local\\Temp\\pip-build-env-xwca656u\\overlay\\Lib\\site-packages\\setuptools\\build_meta.py\", line 416, in build_wheel\n",
      "          return self._build_with_temp_dir(['bdist_wheel'], '.whl',\n",
      "        File \"C:\\Users\\ribhanhadyan\\AppData\\Local\\Temp\\pip-build-env-xwca656u\\overlay\\Lib\\site-packages\\setuptools\\build_meta.py\", line 401, in _build_with_temp_dir\n",
      "          self.run_setup()\n",
      "        File \"C:\\Users\\ribhanhadyan\\AppData\\Local\\Temp\\pip-build-env-xwca656u\\overlay\\Lib\\site-packages\\setuptools\\build_meta.py\", line 338, in run_setup\n",
      "          exec(code, locals())\n",
      "        File \"<string>\", line 218, in <module>\n",
      "        File \"C:\\Users\\ribhanhadyan\\AppData\\Local\\Temp\\pip-build-env-xwca656u\\overlay\\Lib\\site-packages\\setuptools\\__init__.py\", line 107, in setup\n",
      "          return distutils.core.setup(**attrs)\n",
      "        File \"C:\\Users\\ribhanhadyan\\AppData\\Local\\Temp\\pip-build-env-xwca656u\\overlay\\Lib\\site-packages\\setuptools\\_distutils\\core.py\", line 185, in setup\n",
      "          return run_commands(dist)\n",
      "        File \"C:\\Users\\ribhanhadyan\\AppData\\Local\\Temp\\pip-build-env-xwca656u\\overlay\\Lib\\site-packages\\setuptools\\_distutils\\core.py\", line 201, in run_commands\n",
      "          dist.run_commands()\n",
      "        File \"C:\\Users\\ribhanhadyan\\AppData\\Local\\Temp\\pip-build-env-xwca656u\\overlay\\Lib\\site-packages\\setuptools\\_distutils\\dist.py\", line 969, in run_commands\n",
      "          self.run_command(cmd)\n",
      "        File \"C:\\Users\\ribhanhadyan\\AppData\\Local\\Temp\\pip-build-env-xwca656u\\overlay\\Lib\\site-packages\\setuptools\\dist.py\", line 1244, in run_command\n",
      "          super().run_command(command)\n",
      "        File \"C:\\Users\\ribhanhadyan\\AppData\\Local\\Temp\\pip-build-env-xwca656u\\overlay\\Lib\\site-packages\\setuptools\\_distutils\\dist.py\", line 988, in run_command\n",
      "          cmd_obj.run()\n",
      "        File \"C:\\Users\\ribhanhadyan\\AppData\\Local\\Temp\\pip-build-env-xwca656u\\overlay\\Lib\\site-packages\\wheel\\bdist_wheel.py\", line 343, in run\n",
      "          self.run_command(\"build\")\n",
      "        File \"C:\\Users\\ribhanhadyan\\AppData\\Local\\Temp\\pip-build-env-xwca656u\\overlay\\Lib\\site-packages\\setuptools\\_distutils\\cmd.py\", line 318, in run_command\n",
      "          self.distribution.run_command(command)\n",
      "        File \"C:\\Users\\ribhanhadyan\\AppData\\Local\\Temp\\pip-build-env-xwca656u\\overlay\\Lib\\site-packages\\setuptools\\dist.py\", line 1244, in run_command\n",
      "          super().run_command(command)\n",
      "        File \"C:\\Users\\ribhanhadyan\\AppData\\Local\\Temp\\pip-build-env-xwca656u\\overlay\\Lib\\site-packages\\setuptools\\_distutils\\dist.py\", line 988, in run_command\n",
      "          cmd_obj.run()\n",
      "        File \"C:\\Users\\ribhanhadyan\\AppData\\Local\\Temp\\pip-build-env-xwca656u\\overlay\\Lib\\site-packages\\setuptools\\_distutils\\command\\build.py\", line 131, in run\n",
      "          self.run_command(cmd_name)\n",
      "        File \"C:\\Users\\ribhanhadyan\\AppData\\Local\\Temp\\pip-build-env-xwca656u\\overlay\\Lib\\site-packages\\setuptools\\_distutils\\cmd.py\", line 318, in run_command\n",
      "          self.distribution.run_command(command)\n",
      "        File \"C:\\Users\\ribhanhadyan\\AppData\\Local\\Temp\\pip-build-env-xwca656u\\overlay\\Lib\\site-packages\\setuptools\\dist.py\", line 1244, in run_command\n",
      "          super().run_command(command)\n",
      "        File \"C:\\Users\\ribhanhadyan\\AppData\\Local\\Temp\\pip-build-env-xwca656u\\overlay\\Lib\\site-packages\\setuptools\\_distutils\\dist.py\", line 988, in run_command\n",
      "          cmd_obj.run()\n",
      "        File \"<string>\", line 130, in run\n",
      "        File \"<string>\", line 167, in build_extension\n",
      "        File \"c:\\Users\\ribhanhadyan\\AppData\\Local\\Programs\\Python\\Python38\\.conda\\lib\\subprocess.py\", line 364, in check_call\n",
      "          raise CalledProcessError(retcode, cmd)\n",
      "      subprocess.CalledProcessError: Command '['cmake', 'C:\\\\Users\\\\ribhanhadyan\\\\AppData\\\\Local\\\\Temp\\\\pip-install-f1a0kixw\\\\dlib_b1d0e9a19fde4d9b921e6befb888354f\\\\tools\\\\python', '-DCMAKE_LIBRARY_OUTPUT_DIRECTORY=C:\\\\Users\\\\ribhanhadyan\\\\AppData\\\\Local\\\\Temp\\\\pip-install-f1a0kixw\\\\dlib_b1d0e9a19fde4d9b921e6befb888354f\\\\build\\\\lib.win-amd64-cpython-38', '-DPYTHON_EXECUTABLE=c:\\\\Users\\\\ribhanhadyan\\\\AppData\\\\Local\\\\Programs\\\\Python\\\\Python38\\\\.conda\\\\python.exe', '-DCMAKE_LIBRARY_OUTPUT_DIRECTORY_RELEASE=C:\\\\Users\\\\ribhanhadyan\\\\AppData\\\\Local\\\\Temp\\\\pip-install-f1a0kixw\\\\dlib_b1d0e9a19fde4d9b921e6befb888354f\\\\build\\\\lib.win-amd64-cpython-38', '-A', 'x64']' returned non-zero exit status 1.\n",
      "      [end of output]\n",
      "  \n",
      "  note: This error originates from a subprocess, and is likely not a problem with pip.\n",
      "  ERROR: Failed building wheel for dlib\n",
      "ERROR: Could not build wheels for dlib, which is required to install pyproject.toml-based projects\n"
     ]
    }
   ],
   "source": [
    "!pip install dlib"
   ]
  },
  {
   "cell_type": "code",
   "execution_count": 284,
   "metadata": {},
   "outputs": [
    {
     "name": "stderr",
     "output_type": "stream",
     "text": [
      "WARNING:absl:Found untraced functions such as _jit_compiled_convolution_op, _jit_compiled_convolution_op, _jit_compiled_convolution_op, _jit_compiled_convolution_op, _jit_compiled_convolution_op while saving (showing 5 of 28). These functions will not be directly callable after loading.\n"
     ]
    },
    {
     "name": "stdout",
     "output_type": "stream",
     "text": [
      "INFO:tensorflow:Assets written to: ../Models/obese_models/8/assets\n"
     ]
    },
    {
     "name": "stderr",
     "output_type": "stream",
     "text": [
      "INFO:tensorflow:Assets written to: ../Models/obese_models/8/assets\n"
     ]
    }
   ],
   "source": [
    "tf.keras.models.save_model(model,'../Models/obese_models/8/')"
   ]
  },
  {
   "cell_type": "code",
   "execution_count": 285,
   "metadata": {},
   "outputs": [],
   "source": [
    "model.save('../Models/obese_models/8/model.h5')"
   ]
  },
  {
   "cell_type": "code",
   "execution_count": 147,
   "metadata": {},
   "outputs": [
    {
     "name": "stdout",
     "output_type": "stream",
     "text": [
      "30/30 [==============================] - 14s 294ms/step\n"
     ]
    }
   ],
   "source": [
    "prediction = model.predict(validation_batches)"
   ]
  },
  {
   "cell_type": "code",
   "execution_count": 164,
   "metadata": {},
   "outputs": [
    {
     "name": "stdout",
     "output_type": "stream",
     "text": [
      "30/30 [==============================] - 105s 3s/step - loss: 0.5886 - accuracy: 0.8125\n"
     ]
    },
    {
     "data": {
      "text/plain": [
       "[0.5886042714118958, 0.8125]"
      ]
     },
     "execution_count": 164,
     "metadata": {},
     "output_type": "execute_result"
    }
   ],
   "source": [
    "model.evaluate(validation_batches)"
   ]
  },
  {
   "cell_type": "code",
   "execution_count": 149,
   "metadata": {},
   "outputs": [
    {
     "data": {
      "text/plain": [
       "array([0, 0, 0, 0, 0, 0, 0, 0, 0, 0, 0, 0, 0, 0, 0, 0, 0, 0, 0, 0, 0, 0,\n",
       "       0, 0, 0, 0, 0, 0, 0, 0, 0, 0, 0, 0, 0, 0, 0, 0, 0, 0, 0, 0, 0, 0,\n",
       "       0, 0, 0, 0, 0, 0, 0, 0, 0, 0, 0, 0, 0, 0, 0, 0, 0, 0, 0, 0, 0, 0,\n",
       "       0, 0, 0, 0, 0, 0, 0, 0, 1, 1, 1, 1, 1, 1, 1, 1, 1, 1, 1, 1, 1, 1,\n",
       "       1, 1, 1, 1, 1, 1, 1, 1, 1, 1, 1, 1, 1, 1, 1, 1, 1, 1, 1, 1, 1, 1,\n",
       "       1, 1, 1, 1, 1, 1, 1, 1, 1, 1, 1, 1, 1, 1, 1, 1, 1, 1, 1, 1, 1, 1,\n",
       "       1, 1, 1, 1, 1, 1, 1, 1, 1, 1, 1, 1, 1, 1, 1, 1, 1, 1, 1, 1, 1, 1,\n",
       "       1, 1, 1, 1, 1, 1, 1, 1, 2, 2, 2, 2, 2, 2, 2, 2, 2, 2, 2, 2, 2, 2,\n",
       "       2, 2, 2, 2, 2, 3, 3, 3, 3, 3, 3, 3, 3, 3, 3, 3, 3, 3, 3, 3, 3, 3,\n",
       "       3, 3, 3, 3, 3, 3, 3, 3, 3, 3, 3, 3, 3, 3, 3, 3, 3, 3, 3, 3, 3, 3,\n",
       "       3, 3, 3, 3, 3, 3, 3, 3, 3, 3, 3, 3, 3, 3, 3, 3, 3, 3, 3, 3])"
      ]
     },
     "execution_count": 149,
     "metadata": {},
     "output_type": "execute_result"
    }
   ],
   "source": [
    "validation_batches.classes"
   ]
  },
  {
   "cell_type": "code",
   "execution_count": 155,
   "metadata": {},
   "outputs": [],
   "source": [
    "predict = []\n",
    "predict.append(int(np.argmax(i)) for i in prediction)"
   ]
  },
  {
   "cell_type": "code",
   "execution_count": 157,
   "metadata": {},
   "outputs": [],
   "source": [
    "for i in prediction:\n",
    "    predict.append(np.argmax(i))"
   ]
  },
  {
   "cell_type": "code",
   "execution_count": null,
   "metadata": {},
   "outputs": [],
   "source": []
  }
 ],
 "metadata": {
  "kernelspec": {
   "display_name": "Python 3 (ipykernel)",
   "language": "python",
   "name": "python3"
  },
  "language_info": {
   "codemirror_mode": {
    "name": "ipython",
    "version": 3
   },
   "file_extension": ".py",
   "mimetype": "text/x-python",
   "name": "python",
   "nbconvert_exporter": "python",
   "pygments_lexer": "ipython3",
   "version": "3.9.12"
  },
  "orig_nbformat": 4
 },
 "nbformat": 4,
 "nbformat_minor": 2
}
